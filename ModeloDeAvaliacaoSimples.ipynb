{
  "nbformat": 4,
  "nbformat_minor": 0,
  "metadata": {
    "colab": {
      "provenance": [],
      "authorship_tag": "ABX9TyMYlWt2JNzQSrIH8NNuJDFF",
      "include_colab_link": true
    },
    "kernelspec": {
      "name": "python3",
      "display_name": "Python 3"
    },
    "language_info": {
      "name": "python"
    }
  },
  "cells": [
    {
      "cell_type": "markdown",
      "metadata": {
        "id": "view-in-github",
        "colab_type": "text"
      },
      "source": [
        "<a href=\"https://colab.research.google.com/github/RuanCaxile/AvaliacaoPositivaOuNegativa/blob/main/ModeloDeAvaliacaoSimples.ipynb\" target=\"_parent\"><img src=\"https://colab.research.google.com/assets/colab-badge.svg\" alt=\"Open In Colab\"/></a>"
      ]
    },
    {
      "cell_type": "markdown",
      "source": [
        "#Modelagem Simples de Avaliação Positiva ou Negativa\n",
        "\n",
        "\n",
        "Código Escrito por Ruan Carlos  \n",
        "\n",
        "GitHub: https://github.com/RuanCaxile  \n",
        "\n",
        "LinkedIn: www.linkedin.com/in/ruan-carlos-3658561ba\n",
        "\n",
        "Este projeto de Machine Learning consiste numa simplificação da modelagem de avaliações de produtos e/ou serviços, a partir da Linguagem Python."
      ],
      "metadata": {
        "id": "9rG-agUMuMLL"
      }
    },
    {
      "cell_type": "code",
      "execution_count": 9,
      "metadata": {
        "id": "ZHNexK5zEecb"
      },
      "outputs": [],
      "source": [
        "#importando bibliotecas\n",
        "from sklearn.metrics import accuracy_score\n",
        "import pandas as pd\n",
        "from sklearn.model_selection import train_test_split\n",
        "from sklearn.feature_extraction.text import TfidfVectorizer\n",
        "from sklearn.svm import LinearSVC\n",
        "from sklearn.pipeline import Pipeline\n",
        "\n",
        "data = {'texto': ['O produto é incrível!', 'Não gostei muito do produto', 'Achei o produto nada demais', 'Produto excelente','Péssimo produto', 'Muito satisfeito com o produto'],\n",
        "        'classe': [1,0,0,1,0,1]}\n",
        "\n",
        "df = pd.DataFrame(data)"
      ]
    },
    {
      "cell_type": "code",
      "source": [
        "model_project = LinearSVC() #modelagem escolhida para o projeto foi a Linear SVC"
      ],
      "metadata": {
        "id": "H2nTNbYfEtTE"
      },
      "execution_count": 10,
      "outputs": []
    },
    {
      "cell_type": "code",
      "source": [
        "#separação do conjunto de dados em X e y\n",
        "X = df.texto\n",
        "y = df.classe"
      ],
      "metadata": {
        "id": "2lZfx07MEwyn"
      },
      "execution_count": 11,
      "outputs": []
    },
    {
      "cell_type": "code",
      "source": [
        "#definição dos grupos de treino e de teste a partir da separação do conjunto de dados\n",
        "X_train, X_test, y_train, y_test = train_test_split(X, y, test_size=0.3, random_state=42)"
      ],
      "metadata": {
        "id": "Qx5H_I1hEzlR"
      },
      "execution_count": 12,
      "outputs": []
    },
    {
      "cell_type": "code",
      "source": [
        "#realização de processamento de dados e modelagem em um objeto só\n",
        "text_clf = Pipeline([('tfidf', TfidfVectorizer()),\n",
        "                     ('clf',LinearSVC())])"
      ],
      "metadata": {
        "id": "pJxsIb86E5_F"
      },
      "execution_count": 13,
      "outputs": []
    },
    {
      "cell_type": "code",
      "source": [
        "text_clf.fit(X_train, y_train)\n",
        "y_pred = text_clf.predict([\"Não Gostei do Produto\"])"
      ],
      "metadata": {
        "id": "tnpyrWIrE8Yk"
      },
      "execution_count": 18,
      "outputs": []
    },
    {
      "cell_type": "code",
      "source": [
        "accuracy_project = accuracy_score(y_test,y_pred)\n",
        "accuracy_project"
      ],
      "metadata": {
        "colab": {
          "base_uri": "https://localhost:8080/"
        },
        "id": "9RG5VU8cE_Ta",
        "outputId": "73825486-39b0-4bc6-93ac-ce863549bc48"
      },
      "execution_count": null,
      "outputs": [
        {
          "output_type": "execute_result",
          "data": {
            "text/plain": [
              "0.0"
            ]
          },
          "metadata": {},
          "execution_count": 7
        }
      ]
    }
  ]
}